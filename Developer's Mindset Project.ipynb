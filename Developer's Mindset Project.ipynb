{
 "cells": [
  {
   "cell_type": "markdown",
   "metadata": {},
   "source": [
    "# Developer's Mindset Project\n",
    "\n",
    "## Summary\n",
    "The goal of this project is to find out what do the developers think with repect to education, development softwares and employee benefits. The data analysis is performed on the dataset provided by Stack Overflow. This data is basically taken from Stack Overflow's Developer survey conducted in the year 2017.\n",
    "\n",
    "The project uses the required steps in the CRISP-DM process:\n",
    "1. Business Understanding\n",
    "2. Data Understanding\n",
    "3. Data Preparation\n",
    "4. Data Modeling\n",
    "5. Results Evalluation\n",
    "6. Model Deployment\n",
    "\n",
    "## Business Understanding\n",
    "There were so many questions as part of the survey. I was particularly interested to know the answers for the following questions:\n",
    "1. What type of education did the developers pursue outside the formal education?\n",
    "2. What are all the commonly preferred IDEs used by the developers according to the employment status?\n",
    "3. What kind of employee benefits do the developers prefer?"
   ]
  },
  {
   "cell_type": "code",
   "execution_count": 125,
   "metadata": {},
   "outputs": [],
   "source": [
    "#Import Statements used in the project\n",
    "import pandas as pd\n",
    "from collections import defaultdict\n",
    "import matplotlib.pyplot as plt\n",
    "import seaborn as sns\n",
    "\n",
    "import qgrid\n",
    "import ipywidgets as widgets\n",
    "\n",
    "%matplotlib inline"
   ]
  },
  {
   "cell_type": "markdown",
   "metadata": {},
   "source": [
    "## Data Understanding"
   ]
  },
  {
   "cell_type": "code",
   "execution_count": 126,
   "metadata": {},
   "outputs": [],
   "source": [
    "# Data Understanding Read the datasets\n",
    "survey_results_public_df = pd.read_csv(\"survey_results_public.csv\")\n",
    "survey_results_schema_df = pd.read_csv(\"survey_results_schema.csv\")"
   ]
  },
  {
   "cell_type": "code",
   "execution_count": 127,
   "metadata": {
    "scrolled": true
   },
   "outputs": [
    {
     "name": "stdout",
     "output_type": "stream",
     "text": [
      "(51392, 154)\n"
     ]
    },
    {
     "data": {
      "text/html": [
       "<div>\n",
       "<style scoped>\n",
       "    .dataframe tbody tr th:only-of-type {\n",
       "        vertical-align: middle;\n",
       "    }\n",
       "\n",
       "    .dataframe tbody tr th {\n",
       "        vertical-align: top;\n",
       "    }\n",
       "\n",
       "    .dataframe thead th {\n",
       "        text-align: right;\n",
       "    }\n",
       "</style>\n",
       "<table border=\"1\" class=\"dataframe\">\n",
       "  <thead>\n",
       "    <tr style=\"text-align: right;\">\n",
       "      <th></th>\n",
       "      <th>Respondent</th>\n",
       "      <th>Professional</th>\n",
       "      <th>ProgramHobby</th>\n",
       "      <th>Country</th>\n",
       "      <th>University</th>\n",
       "      <th>EmploymentStatus</th>\n",
       "      <th>FormalEducation</th>\n",
       "      <th>MajorUndergrad</th>\n",
       "      <th>HomeRemote</th>\n",
       "      <th>CompanySize</th>\n",
       "      <th>...</th>\n",
       "      <th>StackOverflowMakeMoney</th>\n",
       "      <th>Gender</th>\n",
       "      <th>HighestEducationParents</th>\n",
       "      <th>Race</th>\n",
       "      <th>SurveyLong</th>\n",
       "      <th>QuestionsInteresting</th>\n",
       "      <th>QuestionsConfusing</th>\n",
       "      <th>InterestedAnswers</th>\n",
       "      <th>Salary</th>\n",
       "      <th>ExpectedSalary</th>\n",
       "    </tr>\n",
       "  </thead>\n",
       "  <tbody>\n",
       "    <tr>\n",
       "      <th>0</th>\n",
       "      <td>1</td>\n",
       "      <td>Student</td>\n",
       "      <td>Yes, both</td>\n",
       "      <td>United States</td>\n",
       "      <td>No</td>\n",
       "      <td>Not employed, and not looking for work</td>\n",
       "      <td>Secondary school</td>\n",
       "      <td>NaN</td>\n",
       "      <td>NaN</td>\n",
       "      <td>NaN</td>\n",
       "      <td>...</td>\n",
       "      <td>Strongly disagree</td>\n",
       "      <td>Male</td>\n",
       "      <td>High school</td>\n",
       "      <td>White or of European descent</td>\n",
       "      <td>Strongly disagree</td>\n",
       "      <td>Strongly agree</td>\n",
       "      <td>Disagree</td>\n",
       "      <td>Strongly agree</td>\n",
       "      <td>NaN</td>\n",
       "      <td>NaN</td>\n",
       "    </tr>\n",
       "    <tr>\n",
       "      <th>1</th>\n",
       "      <td>2</td>\n",
       "      <td>Student</td>\n",
       "      <td>Yes, both</td>\n",
       "      <td>United Kingdom</td>\n",
       "      <td>Yes, full-time</td>\n",
       "      <td>Employed part-time</td>\n",
       "      <td>Some college/university study without earning ...</td>\n",
       "      <td>Computer science or software engineering</td>\n",
       "      <td>More than half, but not all, the time</td>\n",
       "      <td>20 to 99 employees</td>\n",
       "      <td>...</td>\n",
       "      <td>Strongly disagree</td>\n",
       "      <td>Male</td>\n",
       "      <td>A master's degree</td>\n",
       "      <td>White or of European descent</td>\n",
       "      <td>Somewhat agree</td>\n",
       "      <td>Somewhat agree</td>\n",
       "      <td>Disagree</td>\n",
       "      <td>Strongly agree</td>\n",
       "      <td>NaN</td>\n",
       "      <td>37500.0</td>\n",
       "    </tr>\n",
       "    <tr>\n",
       "      <th>2</th>\n",
       "      <td>3</td>\n",
       "      <td>Professional developer</td>\n",
       "      <td>Yes, both</td>\n",
       "      <td>United Kingdom</td>\n",
       "      <td>No</td>\n",
       "      <td>Employed full-time</td>\n",
       "      <td>Bachelor's degree</td>\n",
       "      <td>Computer science or software engineering</td>\n",
       "      <td>Less than half the time, but at least one day ...</td>\n",
       "      <td>10,000 or more employees</td>\n",
       "      <td>...</td>\n",
       "      <td>Disagree</td>\n",
       "      <td>Male</td>\n",
       "      <td>A professional degree</td>\n",
       "      <td>White or of European descent</td>\n",
       "      <td>Somewhat agree</td>\n",
       "      <td>Agree</td>\n",
       "      <td>Disagree</td>\n",
       "      <td>Agree</td>\n",
       "      <td>113750.0</td>\n",
       "      <td>NaN</td>\n",
       "    </tr>\n",
       "    <tr>\n",
       "      <th>3</th>\n",
       "      <td>4</td>\n",
       "      <td>Professional non-developer who sometimes write...</td>\n",
       "      <td>Yes, both</td>\n",
       "      <td>United States</td>\n",
       "      <td>No</td>\n",
       "      <td>Employed full-time</td>\n",
       "      <td>Doctoral degree</td>\n",
       "      <td>A non-computer-focused engineering discipline</td>\n",
       "      <td>Less than half the time, but at least one day ...</td>\n",
       "      <td>10,000 or more employees</td>\n",
       "      <td>...</td>\n",
       "      <td>Disagree</td>\n",
       "      <td>Male</td>\n",
       "      <td>A doctoral degree</td>\n",
       "      <td>White or of European descent</td>\n",
       "      <td>Agree</td>\n",
       "      <td>Agree</td>\n",
       "      <td>Somewhat agree</td>\n",
       "      <td>Strongly agree</td>\n",
       "      <td>NaN</td>\n",
       "      <td>NaN</td>\n",
       "    </tr>\n",
       "    <tr>\n",
       "      <th>4</th>\n",
       "      <td>5</td>\n",
       "      <td>Professional developer</td>\n",
       "      <td>Yes, I program as a hobby</td>\n",
       "      <td>Switzerland</td>\n",
       "      <td>No</td>\n",
       "      <td>Employed full-time</td>\n",
       "      <td>Master's degree</td>\n",
       "      <td>Computer science or software engineering</td>\n",
       "      <td>Never</td>\n",
       "      <td>10 to 19 employees</td>\n",
       "      <td>...</td>\n",
       "      <td>NaN</td>\n",
       "      <td>NaN</td>\n",
       "      <td>NaN</td>\n",
       "      <td>NaN</td>\n",
       "      <td>NaN</td>\n",
       "      <td>NaN</td>\n",
       "      <td>NaN</td>\n",
       "      <td>NaN</td>\n",
       "      <td>NaN</td>\n",
       "      <td>NaN</td>\n",
       "    </tr>\n",
       "  </tbody>\n",
       "</table>\n",
       "<p>5 rows × 154 columns</p>\n",
       "</div>"
      ],
      "text/plain": [
       "   Respondent                                       Professional  \\\n",
       "0           1                                            Student   \n",
       "1           2                                            Student   \n",
       "2           3                             Professional developer   \n",
       "3           4  Professional non-developer who sometimes write...   \n",
       "4           5                             Professional developer   \n",
       "\n",
       "                ProgramHobby         Country      University  \\\n",
       "0                  Yes, both   United States              No   \n",
       "1                  Yes, both  United Kingdom  Yes, full-time   \n",
       "2                  Yes, both  United Kingdom              No   \n",
       "3                  Yes, both   United States              No   \n",
       "4  Yes, I program as a hobby     Switzerland              No   \n",
       "\n",
       "                         EmploymentStatus  \\\n",
       "0  Not employed, and not looking for work   \n",
       "1                      Employed part-time   \n",
       "2                      Employed full-time   \n",
       "3                      Employed full-time   \n",
       "4                      Employed full-time   \n",
       "\n",
       "                                     FormalEducation  \\\n",
       "0                                   Secondary school   \n",
       "1  Some college/university study without earning ...   \n",
       "2                                  Bachelor's degree   \n",
       "3                                    Doctoral degree   \n",
       "4                                    Master's degree   \n",
       "\n",
       "                                  MajorUndergrad  \\\n",
       "0                                            NaN   \n",
       "1       Computer science or software engineering   \n",
       "2       Computer science or software engineering   \n",
       "3  A non-computer-focused engineering discipline   \n",
       "4       Computer science or software engineering   \n",
       "\n",
       "                                          HomeRemote  \\\n",
       "0                                                NaN   \n",
       "1              More than half, but not all, the time   \n",
       "2  Less than half the time, but at least one day ...   \n",
       "3  Less than half the time, but at least one day ...   \n",
       "4                                              Never   \n",
       "\n",
       "                CompanySize  ... StackOverflowMakeMoney Gender  \\\n",
       "0                       NaN  ...      Strongly disagree   Male   \n",
       "1        20 to 99 employees  ...      Strongly disagree   Male   \n",
       "2  10,000 or more employees  ...               Disagree   Male   \n",
       "3  10,000 or more employees  ...               Disagree   Male   \n",
       "4        10 to 19 employees  ...                    NaN    NaN   \n",
       "\n",
       "  HighestEducationParents                          Race         SurveyLong  \\\n",
       "0             High school  White or of European descent  Strongly disagree   \n",
       "1       A master's degree  White or of European descent     Somewhat agree   \n",
       "2   A professional degree  White or of European descent     Somewhat agree   \n",
       "3       A doctoral degree  White or of European descent              Agree   \n",
       "4                     NaN                           NaN                NaN   \n",
       "\n",
       "  QuestionsInteresting QuestionsConfusing InterestedAnswers    Salary  \\\n",
       "0       Strongly agree           Disagree    Strongly agree       NaN   \n",
       "1       Somewhat agree           Disagree    Strongly agree       NaN   \n",
       "2                Agree           Disagree             Agree  113750.0   \n",
       "3                Agree     Somewhat agree    Strongly agree       NaN   \n",
       "4                  NaN                NaN               NaN       NaN   \n",
       "\n",
       "   ExpectedSalary  \n",
       "0             NaN  \n",
       "1         37500.0  \n",
       "2             NaN  \n",
       "3             NaN  \n",
       "4             NaN  \n",
       "\n",
       "[5 rows x 154 columns]"
      ]
     },
     "execution_count": 127,
     "metadata": {},
     "output_type": "execute_result"
    }
   ],
   "source": [
    "# Check how the survey_results_public.csv data looks and also some stats about the dataset\n",
    "print (survey_results_public_df.shape)\n",
    "survey_results_public_df.head()"
   ]
  },
  {
   "cell_type": "code",
   "execution_count": 128,
   "metadata": {},
   "outputs": [
    {
     "name": "stdout",
     "output_type": "stream",
     "text": [
      "(154, 2)\n"
     ]
    },
    {
     "data": {
      "text/html": [
       "<div>\n",
       "<style scoped>\n",
       "    .dataframe tbody tr th:only-of-type {\n",
       "        vertical-align: middle;\n",
       "    }\n",
       "\n",
       "    .dataframe tbody tr th {\n",
       "        vertical-align: top;\n",
       "    }\n",
       "\n",
       "    .dataframe thead th {\n",
       "        text-align: right;\n",
       "    }\n",
       "</style>\n",
       "<table border=\"1\" class=\"dataframe\">\n",
       "  <thead>\n",
       "    <tr style=\"text-align: right;\">\n",
       "      <th></th>\n",
       "      <th>Column</th>\n",
       "      <th>Question</th>\n",
       "    </tr>\n",
       "  </thead>\n",
       "  <tbody>\n",
       "    <tr>\n",
       "      <th>0</th>\n",
       "      <td>Respondent</td>\n",
       "      <td>Respondent ID number</td>\n",
       "    </tr>\n",
       "    <tr>\n",
       "      <th>1</th>\n",
       "      <td>Professional</td>\n",
       "      <td>Which of the following best describes you?</td>\n",
       "    </tr>\n",
       "    <tr>\n",
       "      <th>2</th>\n",
       "      <td>ProgramHobby</td>\n",
       "      <td>Do you program as a hobby or contribute to ope...</td>\n",
       "    </tr>\n",
       "    <tr>\n",
       "      <th>3</th>\n",
       "      <td>Country</td>\n",
       "      <td>In which country do you currently live?</td>\n",
       "    </tr>\n",
       "    <tr>\n",
       "      <th>4</th>\n",
       "      <td>University</td>\n",
       "      <td>Are you currently enrolled in a formal, degree...</td>\n",
       "    </tr>\n",
       "  </tbody>\n",
       "</table>\n",
       "</div>"
      ],
      "text/plain": [
       "         Column                                           Question\n",
       "0    Respondent                               Respondent ID number\n",
       "1  Professional         Which of the following best describes you?\n",
       "2  ProgramHobby  Do you program as a hobby or contribute to ope...\n",
       "3       Country            In which country do you currently live?\n",
       "4    University  Are you currently enrolled in a formal, degree..."
      ]
     },
     "execution_count": 128,
     "metadata": {},
     "output_type": "execute_result"
    }
   ],
   "source": [
    "# Check how the survey_results_public.csv data looks and also some stats about the dataset\n",
    "print (survey_results_schema_df.shape)\n",
    "survey_results_schema_df.head()"
   ]
  },
  {
   "cell_type": "code",
   "execution_count": 129,
   "metadata": {
    "scrolled": false
   },
   "outputs": [
    {
     "data": {
      "application/vnd.jupyter.widget-view+json": {
       "model_id": "3d1f950550a84cedb9e5a3f89a1bfc77",
       "version_major": 2,
       "version_minor": 0
      },
      "text/plain": [
       "QgridWidget(grid_options={'fullWidthRows': True, 'syncColumnCellResize': True, 'forceFitColumns': True, 'defau…"
      ]
     },
     "metadata": {},
     "output_type": "display_data"
    }
   ],
   "source": [
    "# Going through the data available in the survey_results_scheme.csv file to go through the survey questionnaire\n",
    "survey_results_schema_qgrid_widget = qgrid.show_grid(survey_results_schema_df, column_options={ 'edible': False,'toolTip': \"Not Editable\" },show_toolbar=False)\n",
    "survey_results_schema_qgrid_widget"
   ]
  },
  {
   "cell_type": "code",
   "execution_count": null,
   "metadata": {},
   "outputs": [],
   "source": []
  },
  {
   "cell_type": "markdown",
   "metadata": {},
   "source": [
    "# What type of education did the developers pursue outside the formal education?"
   ]
  },
  {
   "cell_type": "code",
   "execution_count": 130,
   "metadata": {},
   "outputs": [
    {
     "data": {
      "text/plain": [
       "['Outside of your formal schooling and education, which of the following have you done?']"
      ]
     },
     "execution_count": 130,
     "metadata": {},
     "output_type": "execute_result"
    }
   ],
   "source": [
    "#Checking the question of the question related to Education Important\n",
    "list (survey_results_schema_df[survey_results_schema_df['Column']=='EducationTypes']['Question'])"
   ]
  },
  {
   "cell_type": "code",
   "execution_count": 131,
   "metadata": {},
   "outputs": [
    {
     "data": {
      "text/html": [
       "<div>\n",
       "<style scoped>\n",
       "    .dataframe tbody tr th:only-of-type {\n",
       "        vertical-align: middle;\n",
       "    }\n",
       "\n",
       "    .dataframe tbody tr th {\n",
       "        vertical-align: top;\n",
       "    }\n",
       "\n",
       "    .dataframe thead th {\n",
       "        text-align: right;\n",
       "    }\n",
       "</style>\n",
       "<table border=\"1\" class=\"dataframe\">\n",
       "  <thead>\n",
       "    <tr style=\"text-align: right;\">\n",
       "      <th></th>\n",
       "      <th>education_type</th>\n",
       "      <th>count</th>\n",
       "    </tr>\n",
       "  </thead>\n",
       "  <tbody>\n",
       "    <tr>\n",
       "      <th>0</th>\n",
       "      <td>Self-taught</td>\n",
       "      <td>3691</td>\n",
       "    </tr>\n",
       "    <tr>\n",
       "      <th>1</th>\n",
       "      <td>Online course; Self-taught</td>\n",
       "      <td>1875</td>\n",
       "    </tr>\n",
       "    <tr>\n",
       "      <th>2</th>\n",
       "      <td>Self-taught; Open source contributions</td>\n",
       "      <td>1751</td>\n",
       "    </tr>\n",
       "    <tr>\n",
       "      <th>3</th>\n",
       "      <td>On-the-job training; Self-taught</td>\n",
       "      <td>1687</td>\n",
       "    </tr>\n",
       "    <tr>\n",
       "      <th>4</th>\n",
       "      <td>Online course; On-the-job training; Self-taught</td>\n",
       "      <td>1276</td>\n",
       "    </tr>\n",
       "    <tr>\n",
       "      <th>...</th>\n",
       "      <td>...</td>\n",
       "      <td>...</td>\n",
       "    </tr>\n",
       "    <tr>\n",
       "      <th>442</th>\n",
       "      <td>Bootcamp; Industry certification; On-the-job t...</td>\n",
       "      <td>1</td>\n",
       "    </tr>\n",
       "    <tr>\n",
       "      <th>443</th>\n",
       "      <td>Bootcamp; Industry certification; On-the-job t...</td>\n",
       "      <td>1</td>\n",
       "    </tr>\n",
       "    <tr>\n",
       "      <th>444</th>\n",
       "      <td>Online course; Industry certification; On-the-...</td>\n",
       "      <td>1</td>\n",
       "    </tr>\n",
       "    <tr>\n",
       "      <th>445</th>\n",
       "      <td>Online course; Bootcamp; Industry certificatio...</td>\n",
       "      <td>1</td>\n",
       "    </tr>\n",
       "    <tr>\n",
       "      <th>446</th>\n",
       "      <td>Bootcamp; Part-time/evening course; Industry c...</td>\n",
       "      <td>1</td>\n",
       "    </tr>\n",
       "  </tbody>\n",
       "</table>\n",
       "<p>447 rows × 2 columns</p>\n",
       "</div>"
      ],
      "text/plain": [
       "                                        education_type  count\n",
       "0                                          Self-taught   3691\n",
       "1                           Online course; Self-taught   1875\n",
       "2               Self-taught; Open source contributions   1751\n",
       "3                     On-the-job training; Self-taught   1687\n",
       "4      Online course; On-the-job training; Self-taught   1276\n",
       "..                                                 ...    ...\n",
       "442  Bootcamp; Industry certification; On-the-job t...      1\n",
       "443  Bootcamp; Industry certification; On-the-job t...      1\n",
       "444  Online course; Industry certification; On-the-...      1\n",
       "445  Online course; Bootcamp; Industry certificatio...      1\n",
       "446  Bootcamp; Part-time/evening course; Industry c...      1\n",
       "\n",
       "[447 rows x 2 columns]"
      ]
     },
     "execution_count": 131,
     "metadata": {},
     "output_type": "execute_result"
    }
   ],
   "source": [
    "#Get the value counts of different types of education\n",
    "EducationTypes_data = survey_results_public_df['EducationTypes'].value_counts().reset_index()\n",
    "EducationTypes_data.columns = ['education_type','count']\n",
    "EducationTypes_data"
   ]
  },
  {
   "cell_type": "markdown",
   "metadata": {},
   "source": [
    "## Data Preparation"
   ]
  },
  {
   "cell_type": "code",
   "execution_count": 132,
   "metadata": {},
   "outputs": [
    {
     "data": {
      "text/plain": [
       "True"
      ]
     },
     "execution_count": 132,
     "metadata": {},
     "output_type": "execute_result"
    }
   ],
   "source": [
    "# Checking whether data is missing on the column \"education_type\"\n",
    "EducationTypes_data['education_type'].isnull().mean()==0"
   ]
  },
  {
   "cell_type": "markdown",
   "metadata": {},
   "source": [
    "#### The above cell denotes that there are no missing values on the column \"education_type\" and hence we can proceed with the next steps of the analysis"
   ]
  },
  {
   "cell_type": "code",
   "execution_count": 133,
   "metadata": {},
   "outputs": [],
   "source": [
    "# Function to get the possible options for those questionnaire that contains multi select check boxes\n",
    "\n",
    "def get_possible_values(df,column_name):\n",
    "    \n",
    "    '''\n",
    "    Function to get the possible options by looping through each row of data.\n",
    "    \n",
    "    ARGS:\n",
    "    df: dataframe on which we need to loop through\n",
    "    column_name : column that contains all the possible values\n",
    "    \n",
    "    OUTPUT:\n",
    "    final_list: list of possible values\n",
    "    \n",
    "    '''\n",
    "    \n",
    "    # Code to get the list of options given for Eduation Type\n",
    "    list_of_values=[]\n",
    "    for index,row in df.iterrows():\n",
    "        possible_values = row[column_name].split(';')\n",
    "        list_of_values = list_of_values + possible_values\n",
    "\n",
    "    #print (list_of_values)\n",
    "\n",
    "    # Code to remove spaces in the above list\n",
    "    pre_final_list=[]\n",
    "    for x in range(len(list_of_values)):\n",
    "        pre_final_list.append(list_of_values[x].strip())\n",
    "\n",
    "    #print (pre_final_list)\n",
    "\n",
    "    final_list = list(set(pre_final_list))\n",
    "\n",
    "    #print (final_list)\n",
    "    \n",
    "    return final_list"
   ]
  },
  {
   "cell_type": "code",
   "execution_count": 134,
   "metadata": {},
   "outputs": [
    {
     "data": {
      "text/plain": [
       "['Online course',\n",
       " 'Industry certification',\n",
       " 'Hackathon',\n",
       " 'Open source contributions',\n",
       " 'Self-taught',\n",
       " 'Coding competition',\n",
       " 'On-the-job training',\n",
       " 'Part-time/evening course',\n",
       " 'Bootcamp']"
      ]
     },
     "execution_count": 134,
     "metadata": {},
     "output_type": "execute_result"
    }
   ],
   "source": [
    "#Get the possible values of Education Types\n",
    "possible_values_education_types = get_possible_values(EducationTypes_data,'education_type')\n",
    "possible_values_education_types"
   ]
  },
  {
   "cell_type": "code",
   "execution_count": 135,
   "metadata": {},
   "outputs": [],
   "source": [
    "#To see how often each values appeared in users selection\n",
    "def total_count(df, col1, col2, look_for):\n",
    "    '''\n",
    "    Function to get the total count of all the possible values\n",
    "    \n",
    "    ARGS:\n",
    "    df - dataframe you want to look through\n",
    "    col1 - column you want to look through\n",
    "    col2 - column that you want to count values\n",
    "    look_for - possible values\n",
    "\n",
    "    OUTPUT:\n",
    "    new_df - dataframe containing each possible value and the count of that value\n",
    "    '''\n",
    "\n",
    "    new_df = defaultdict(int)\n",
    "    #loop through list of ed types\n",
    "    for val in look_for:\n",
    "        #loop through rows\n",
    "        for idx in range(df.shape[0]):\n",
    "            #if the ed type is in the row add 1\n",
    "            if val in df[col1][idx]:\n",
    "                new_df[val] += int(df[col2][idx])\n",
    "    new_df = pd.DataFrame(pd.Series(new_df)).reset_index()\n",
    "    new_df.columns = [col1, col2]\n",
    "    new_df.sort_values('count', ascending=False, inplace=True)\n",
    "    return new_df"
   ]
  },
  {
   "cell_type": "code",
   "execution_count": 136,
   "metadata": {},
   "outputs": [
    {
     "data": {
      "text/html": [
       "<div>\n",
       "<style scoped>\n",
       "    .dataframe tbody tr th:only-of-type {\n",
       "        vertical-align: middle;\n",
       "    }\n",
       "\n",
       "    .dataframe tbody tr th {\n",
       "        vertical-align: top;\n",
       "    }\n",
       "\n",
       "    .dataframe thead th {\n",
       "        text-align: right;\n",
       "    }\n",
       "</style>\n",
       "<table border=\"1\" class=\"dataframe\">\n",
       "  <thead>\n",
       "    <tr style=\"text-align: right;\">\n",
       "      <th></th>\n",
       "      <th>education_type</th>\n",
       "      <th>count</th>\n",
       "    </tr>\n",
       "  </thead>\n",
       "  <tbody>\n",
       "    <tr>\n",
       "      <th>4</th>\n",
       "      <td>Self-taught</td>\n",
       "      <td>27330</td>\n",
       "    </tr>\n",
       "    <tr>\n",
       "      <th>0</th>\n",
       "      <td>Online course</td>\n",
       "      <td>13792</td>\n",
       "    </tr>\n",
       "    <tr>\n",
       "      <th>6</th>\n",
       "      <td>On-the-job training</td>\n",
       "      <td>12508</td>\n",
       "    </tr>\n",
       "    <tr>\n",
       "      <th>3</th>\n",
       "      <td>Open source contributions</td>\n",
       "      <td>11225</td>\n",
       "    </tr>\n",
       "    <tr>\n",
       "      <th>2</th>\n",
       "      <td>Hackathon</td>\n",
       "      <td>7150</td>\n",
       "    </tr>\n",
       "    <tr>\n",
       "      <th>5</th>\n",
       "      <td>Coding competition</td>\n",
       "      <td>6683</td>\n",
       "    </tr>\n",
       "    <tr>\n",
       "      <th>7</th>\n",
       "      <td>Part-time/evening course</td>\n",
       "      <td>4654</td>\n",
       "    </tr>\n",
       "    <tr>\n",
       "      <th>1</th>\n",
       "      <td>Industry certification</td>\n",
       "      <td>4472</td>\n",
       "    </tr>\n",
       "    <tr>\n",
       "      <th>8</th>\n",
       "      <td>Bootcamp</td>\n",
       "      <td>2727</td>\n",
       "    </tr>\n",
       "  </tbody>\n",
       "</table>\n",
       "</div>"
      ],
      "text/plain": [
       "              education_type  count\n",
       "4                Self-taught  27330\n",
       "0              Online course  13792\n",
       "6        On-the-job training  12508\n",
       "3  Open source contributions  11225\n",
       "2                  Hackathon   7150\n",
       "5         Coding competition   6683\n",
       "7   Part-time/evening course   4654\n",
       "1     Industry certification   4472\n",
       "8                   Bootcamp   2727"
      ]
     },
     "execution_count": 136,
     "metadata": {},
     "output_type": "execute_result"
    }
   ],
   "source": [
    "education_types_count_df = total_count(EducationTypes_data, 'education_type','count', possible_values_education_types)\n",
    "education_types_count_df"
   ]
  },
  {
   "cell_type": "code",
   "execution_count": 137,
   "metadata": {},
   "outputs": [
    {
     "data": {
      "text/html": [
       "<div>\n",
       "<style scoped>\n",
       "    .dataframe tbody tr th:only-of-type {\n",
       "        vertical-align: middle;\n",
       "    }\n",
       "\n",
       "    .dataframe tbody tr th {\n",
       "        vertical-align: top;\n",
       "    }\n",
       "\n",
       "    .dataframe thead th {\n",
       "        text-align: right;\n",
       "    }\n",
       "</style>\n",
       "<table border=\"1\" class=\"dataframe\">\n",
       "  <thead>\n",
       "    <tr style=\"text-align: right;\">\n",
       "      <th></th>\n",
       "      <th>education_type</th>\n",
       "      <th>count</th>\n",
       "      <th>percentage</th>\n",
       "    </tr>\n",
       "  </thead>\n",
       "  <tbody>\n",
       "    <tr>\n",
       "      <th>4</th>\n",
       "      <td>Self-taught</td>\n",
       "      <td>27330</td>\n",
       "      <td>0.301852</td>\n",
       "    </tr>\n",
       "    <tr>\n",
       "      <th>0</th>\n",
       "      <td>Online course</td>\n",
       "      <td>13792</td>\n",
       "      <td>0.152329</td>\n",
       "    </tr>\n",
       "    <tr>\n",
       "      <th>6</th>\n",
       "      <td>On-the-job training</td>\n",
       "      <td>12508</td>\n",
       "      <td>0.138147</td>\n",
       "    </tr>\n",
       "    <tr>\n",
       "      <th>3</th>\n",
       "      <td>Open source contributions</td>\n",
       "      <td>11225</td>\n",
       "      <td>0.123977</td>\n",
       "    </tr>\n",
       "    <tr>\n",
       "      <th>2</th>\n",
       "      <td>Hackathon</td>\n",
       "      <td>7150</td>\n",
       "      <td>0.078970</td>\n",
       "    </tr>\n",
       "    <tr>\n",
       "      <th>5</th>\n",
       "      <td>Coding competition</td>\n",
       "      <td>6683</td>\n",
       "      <td>0.073812</td>\n",
       "    </tr>\n",
       "    <tr>\n",
       "      <th>7</th>\n",
       "      <td>Part-time/evening course</td>\n",
       "      <td>4654</td>\n",
       "      <td>0.051402</td>\n",
       "    </tr>\n",
       "    <tr>\n",
       "      <th>1</th>\n",
       "      <td>Industry certification</td>\n",
       "      <td>4472</td>\n",
       "      <td>0.049392</td>\n",
       "    </tr>\n",
       "    <tr>\n",
       "      <th>8</th>\n",
       "      <td>Bootcamp</td>\n",
       "      <td>2727</td>\n",
       "      <td>0.030119</td>\n",
       "    </tr>\n",
       "  </tbody>\n",
       "</table>\n",
       "</div>"
      ],
      "text/plain": [
       "              education_type  count  percentage\n",
       "4                Self-taught  27330    0.301852\n",
       "0              Online course  13792    0.152329\n",
       "6        On-the-job training  12508    0.138147\n",
       "3  Open source contributions  11225    0.123977\n",
       "2                  Hackathon   7150    0.078970\n",
       "5         Coding competition   6683    0.073812\n",
       "7   Part-time/evening course   4654    0.051402\n",
       "1     Industry certification   4472    0.049392\n",
       "8                   Bootcamp   2727    0.030119"
      ]
     },
     "execution_count": 137,
     "metadata": {},
     "output_type": "execute_result"
    }
   ],
   "source": [
    "#Let us see the percentage of people in each category\n",
    "education_types_count_df['percentage'] = education_types_count_df['count']/education_types_count_df['count'].sum()\n",
    "education_types_count_df"
   ]
  },
  {
   "cell_type": "markdown",
   "metadata": {},
   "source": [
    "#### In the above cell, we can see that the data is prepared for the analysis. We have the required column \"percentage\" for our analysis"
   ]
  },
  {
   "cell_type": "code",
   "execution_count": 138,
   "metadata": {},
   "outputs": [
    {
     "data": {
      "image/png": "[encoded data removed]",
      "text/plain": [
       "<Figure size 1008x432 with 1 Axes>"
      ]
     },
     "metadata": {
      "needs_background": "light"
     },
     "output_type": "display_data"
    }
   ],
   "source": [
    "def bar_plot(df, col1, col2, label1,label2, title):\n",
    "    '''\n",
    "    Function to plot a bar chart\n",
    "    \n",
    "    ARGS:\n",
    "    df: dataframe containing the survey dataset\n",
    "    col1: x axis column\n",
    "    col2: y axis column\n",
    "    label1: x axis label\n",
    "    label2: y axis label\n",
    "    title: title of the plot\n",
    "    \n",
    "    OUTPUT:\n",
    "    No Output\n",
    "    \n",
    "    '''\n",
    "\n",
    "    fig = plt.figure(figsize = (14, 6))\n",
    "    \n",
    "    plt.bar(df[col1], df[col2])\n",
    "        \n",
    "    plt.title(title,fontsize=16)\n",
    "    plt.xticks(rotation=90,fontsize=14)\n",
    "    plt.yticks(fontsize=14)\n",
    "    plt.xlabel(label1,fontsize=14)\n",
    "    plt.ylabel(label2,fontsize=14)\n",
    "    \n",
    "    plt.show()\n",
    "\n",
    "    \n",
    "bar_plot(education_types_count_df,'education_type','percentage','Education Types','Percentage','Type of Education Pursued')"
   ]
  },
  {
   "cell_type": "markdown",
   "metadata": {},
   "source": [
    "## Conclusion\n",
    "\n",
    "The data visualization is generated with the prepared data. From the above chart, we can see that Outside formal education, developers generally pursued studies on their own to gain more knowledge."
   ]
  },
  {
   "cell_type": "markdown",
   "metadata": {},
   "source": [
    "# What are all the commonly preferred IDEs used by the developers according to the employment status?"
   ]
  },
  {
   "cell_type": "code",
   "execution_count": 139,
   "metadata": {},
   "outputs": [
    {
     "data": {
      "text/plain": [
       "Employed full-time                                      36148\n",
       "Independent contractor, freelancer, or self-employed     5233\n",
       "Employed part-time                                       3180\n",
       "Not employed, and not looking for work                   2791\n",
       "Not employed, but looking for work                       2786\n",
       "I prefer not to say                                      1086\n",
       "Retired                                                   168\n",
       "Name: EmploymentStatus, dtype: int64"
      ]
     },
     "execution_count": 139,
     "metadata": {},
     "output_type": "execute_result"
    }
   ],
   "source": [
    "# Check the different types of Employment Status\n",
    "survey_results_public_df['EmploymentStatus'].value_counts()"
   ]
  },
  {
   "cell_type": "code",
   "execution_count": 140,
   "metadata": {},
   "outputs": [
    {
     "data": {
      "text/plain": [
       "Notepad++; Visual Studio                                                            1624\n",
       "Visual Studio                                                                       1566\n",
       "Vim                                                                                 1217\n",
       "Sublime Text                                                                         992\n",
       "Notepad++; Visual Studio; Visual Studio Code                                         878\n",
       "                                                                                    ... \n",
       "Atom; Android Studio; Eclipse; NetBeans; Visual Studio; Visual Studio Code             1\n",
       "Atom; Notepad++; Vim; IPython / Jupyter; Visual Studio                                 1\n",
       "Atom; Sublime Text; Eclipse; IntelliJ; PHPStorm                                        1\n",
       "Atom; Emacs; Notepad++; Sublime Text; Android Studio; Eclipse; PyCharm                 1\n",
       "Notepad++; Eclipse; IPython / Jupyter; NetBeans; PyCharm; RStudio; Visual Studio       1\n",
       "Name: IDE, Length: 4798, dtype: int64"
      ]
     },
     "execution_count": 140,
     "metadata": {},
     "output_type": "execute_result"
    }
   ],
   "source": [
    "# Check the different types of IDE\n",
    "survey_results_public_df['IDE'].value_counts()"
   ]
  },
  {
   "cell_type": "markdown",
   "metadata": {},
   "source": [
    "## Data Preparation\n",
    "\n",
    "We are using the following columns - EmploymentStatus and IDE. Let us see if either of the columns are having any missing values and prepare the data for the analysis"
   ]
  },
  {
   "cell_type": "code",
   "execution_count": 141,
   "metadata": {},
   "outputs": [
    {
     "name": "stdout",
     "output_type": "stream",
     "text": [
      "True\n",
      "0.30280977584059776\n"
     ]
    }
   ],
   "source": [
    "# Checking whether data is missing on the column \"EmploymentStatus\"\n",
    "print (survey_results_public_df['EmploymentStatus'].isnull().mean()==0)\n",
    "\n",
    "# Checking whether data is missing on the column \"EmploymentStatus\"\n",
    "print (survey_results_public_df['IDE'].isnull().mean())"
   ]
  },
  {
   "cell_type": "markdown",
   "metadata": {},
   "source": [
    "#### From the above cell, we can see that around 30% data is not available for the column IDE. Since we are going to make an observational analysis, it is better to remove the missing values from the dataset."
   ]
  },
  {
   "cell_type": "code",
   "execution_count": 142,
   "metadata": {},
   "outputs": [],
   "source": [
    "# Removing all those rows on which IDE column is null\n",
    "survey_results_public_df_without_missing_values = survey_results_public_df[~survey_results_public_df['IDE'].isnull()]"
   ]
  },
  {
   "cell_type": "code",
   "execution_count": 143,
   "metadata": {},
   "outputs": [
    {
     "name": "stdout",
     "output_type": "stream",
     "text": [
      "(51392, 154)\n",
      "(35830, 154)\n"
     ]
    }
   ],
   "source": [
    "#Checking the shape of original data set as well as the modified dataset\n",
    "print (survey_results_public_df.shape)\n",
    "print (survey_results_public_df_without_missing_values.shape)"
   ]
  },
  {
   "cell_type": "code",
   "execution_count": 144,
   "metadata": {},
   "outputs": [],
   "source": [
    "def get_IDE_details_based_on_employment_status(df, col_name, col_value, second_col_name):\n",
    "\n",
    "    '''\n",
    "    Function to get IDE details based on the Employment Status\n",
    "    \n",
    "    ARGS:\n",
    "    df: dataframe containing the survey dataset\n",
    "    col_name : column used for filtering the data\n",
    "    col_value : data is fitered based on this col_value\n",
    "    second_col_name: column that you want to count values\n",
    "    \n",
    "    OUTPUT:\n",
    "    required_df[:10]: output dataframe containing the top 10 rows\n",
    "    \n",
    "    '''\n",
    "    filtered_df = df[ df[col_name] == col_value]\n",
    "    count_df = filtered_df[second_col_name].value_counts().reset_index()\n",
    "    count_df.columns = [second_col_name,'count']\n",
    "\n",
    "    possible_values = get_possible_values(count_df,second_col_name)\n",
    "\n",
    "    required_df = total_count(count_df, second_col_name, 'count', possible_values)\n",
    "    \n",
    "    return required_df[:10]"
   ]
  },
  {
   "cell_type": "code",
   "execution_count": 145,
   "metadata": {},
   "outputs": [
    {
     "data": {
      "application/vnd.jupyter.widget-view+json": {
       "model_id": "573932dc7bab47adb2d5db7ae130ba29",
       "version_major": 2,
       "version_minor": 0
      },
      "text/plain": [
       "QgridWidget(grid_options={'fullWidthRows': True, 'syncColumnCellResize': True, 'forceFitColumns': True, 'defau…"
      ]
     },
     "metadata": {},
     "output_type": "display_data"
    }
   ],
   "source": [
    "#Use the modified dataframe for the analysis\n",
    "survey_results_full_time_employee_df = get_IDE_details_based_on_employment_status(survey_results_public_df_without_missing_values, 'EmploymentStatus', 'Employed full-time', 'IDE')\n",
    "survey_results_self_employed_df = get_IDE_details_based_on_employment_status(survey_results_public_df_without_missing_values, 'EmploymentStatus', 'Independent contractor, freelancer, or self-employed', 'IDE')\n",
    "survey_results_part_time_employee_df = get_IDE_details_based_on_employment_status(survey_results_public_df_without_missing_values, 'EmploymentStatus', 'Employed part-time', 'IDE')\n",
    "\n",
    "pre_merged_df = pd.merge(survey_results_full_time_employee_df,survey_results_self_employed_df,on='IDE',suffixes=('_full_time_employees','_self_employed'),how='inner')\n",
    "merged_df = pd.merge(pre_merged_df,survey_results_part_time_employee_df,on='IDE',how='inner')\n",
    "merged_df.columns = ['IDE','Full Time Employees','Self Employed','Part Time Employees']\n",
    "merged_df\n",
    "\n",
    "\n",
    "reshaped_df = pd.melt(merged_df, id_vars=\"IDE\", var_name=\"Employment Type\", value_name=\"Usage Count\")\n",
    "\n",
    "qgrid_widget_1 = qgrid.show_grid(reshaped_df)\n",
    "display (qgrid_widget_1)"
   ]
  },
  {
   "cell_type": "markdown",
   "metadata": {},
   "source": [
    "#### We can see that the data is prepared for our analysis in the above cell. "
   ]
  },
  {
   "cell_type": "code",
   "execution_count": 146,
   "metadata": {},
   "outputs": [
    {
     "data": {
      "image/png": "[encoded data removed]",
      "text/plain": [
       "<Figure size 1220.62x576 with 1 Axes>"
      ]
     },
     "metadata": {
      "needs_background": "light"
     },
     "output_type": "display_data"
    }
   ],
   "source": [
    "# Data Visualization\n",
    "sns.catplot(x='IDE', y='Usage Count', hue='Employment Type', data=reshaped_df, kind='bar',height=8, aspect=15/8)\n",
    "\n",
    "plt.xlabel('IDE',fontsize=24)\n",
    "plt.ylabel('Usage Count',fontsize=24)\n",
    "plt.legend(fontsize=20,loc='best')\n",
    "plt.xticks(fontsize=16,rotation=90)\n",
    "plt.yticks(fontsize=16)\n",
    "\n",
    "plt.title('Number of IDE users based on Employment Status',fontsize=26)\n",
    "\n",
    "plt.show()"
   ]
  },
  {
   "cell_type": "markdown",
   "metadata": {},
   "source": [
    "## Conclusion\n",
    "\n",
    "The data visualization is generated with the prepared data. From the above chart, we can see that be it a full-time employee, self-employed person, or part-time employee, developers preferred the Visual Studio IDE over the other IDEs."
   ]
  },
  {
   "cell_type": "markdown",
   "metadata": {},
   "source": [
    "# What kind of employee benefits do the developers prefer?"
   ]
  },
  {
   "cell_type": "code",
   "execution_count": 147,
   "metadata": {},
   "outputs": [
    {
     "data": {
      "text/plain": [
       "['When it comes to compensation and benefits, other than base salary, which of the following are most important to you?']"
      ]
     },
     "execution_count": 147,
     "metadata": {},
     "output_type": "execute_result"
    }
   ],
   "source": [
    "#Checking the question related to Important Benefits\n",
    "list (survey_results_schema_df[survey_results_schema_df['Column']=='ImportantBenefits']['Question'])"
   ]
  },
  {
   "cell_type": "code",
   "execution_count": 148,
   "metadata": {},
   "outputs": [
    {
     "data": {
      "text/html": [
       "<div>\n",
       "<style scoped>\n",
       "    .dataframe tbody tr th:only-of-type {\n",
       "        vertical-align: middle;\n",
       "    }\n",
       "\n",
       "    .dataframe tbody tr th {\n",
       "        vertical-align: top;\n",
       "    }\n",
       "\n",
       "    .dataframe thead th {\n",
       "        text-align: right;\n",
       "    }\n",
       "</style>\n",
       "<table border=\"1\" class=\"dataframe\">\n",
       "  <thead>\n",
       "    <tr style=\"text-align: right;\">\n",
       "      <th></th>\n",
       "      <th>important_benefits</th>\n",
       "      <th>count</th>\n",
       "    </tr>\n",
       "  </thead>\n",
       "  <tbody>\n",
       "    <tr>\n",
       "      <th>0</th>\n",
       "      <td>None of these</td>\n",
       "      <td>653</td>\n",
       "    </tr>\n",
       "    <tr>\n",
       "      <th>1</th>\n",
       "      <td>Retirement; Vacation/days off; Health benefits...</td>\n",
       "      <td>363</td>\n",
       "    </tr>\n",
       "    <tr>\n",
       "      <th>2</th>\n",
       "      <td>Vacation/days off; Equipment; Professional dev...</td>\n",
       "      <td>324</td>\n",
       "    </tr>\n",
       "    <tr>\n",
       "      <th>3</th>\n",
       "      <td>Vacation/days off; Health benefits; Equipment;...</td>\n",
       "      <td>305</td>\n",
       "    </tr>\n",
       "    <tr>\n",
       "      <th>4</th>\n",
       "      <td>Vacation/days off; Health benefits; Profession...</td>\n",
       "      <td>249</td>\n",
       "    </tr>\n",
       "  </tbody>\n",
       "</table>\n",
       "</div>"
      ],
      "text/plain": [
       "                                  important_benefits  count\n",
       "0                                      None of these    653\n",
       "1  Retirement; Vacation/days off; Health benefits...    363\n",
       "2  Vacation/days off; Equipment; Professional dev...    324\n",
       "3  Vacation/days off; Health benefits; Equipment;...    305\n",
       "4  Vacation/days off; Health benefits; Profession...    249"
      ]
     },
     "execution_count": 148,
     "metadata": {},
     "output_type": "execute_result"
    }
   ],
   "source": [
    "##Let us see about various options available on the column important bnefits\n",
    "ImportantBenefits_data = survey_results_public_df['ImportantBenefits'].value_counts().reset_index()\n",
    "ImportantBenefits_data.columns = ['important_benefits','count']\n",
    "ImportantBenefits_data.head()"
   ]
  },
  {
   "cell_type": "markdown",
   "metadata": {},
   "source": [
    "## Data Preparation"
   ]
  },
  {
   "cell_type": "code",
   "execution_count": 149,
   "metadata": {},
   "outputs": [
    {
     "data": {
      "text/plain": [
       "True"
      ]
     },
     "execution_count": 149,
     "metadata": {},
     "output_type": "execute_result"
    }
   ],
   "source": [
    "# Checking whether data is missing on the column \"education_type\"\n",
    "ImportantBenefits_data['important_benefits'].isnull().mean()==0"
   ]
  },
  {
   "cell_type": "markdown",
   "metadata": {},
   "source": [
    "#### The above cell denotes that there are no missing values on the column \"important_benefits\" and hence we can proceed with the next steps of the analysis"
   ]
  },
  {
   "cell_type": "code",
   "execution_count": 150,
   "metadata": {},
   "outputs": [
    {
     "data": {
      "text/plain": [
       "['Retirement',\n",
       " 'Equipment',\n",
       " 'Remote options',\n",
       " 'Meals',\n",
       " 'Health benefits',\n",
       " 'Stock options',\n",
       " 'Long-term leave',\n",
       " 'Professional development sponsorship',\n",
       " 'Education sponsorship',\n",
       " 'Expected work hours',\n",
       " 'Private office',\n",
       " 'Annual bonus',\n",
       " 'None of these',\n",
       " 'Charitable match',\n",
       " 'Other',\n",
       " 'Vacation/days off',\n",
       " 'Child/elder care']"
      ]
     },
     "execution_count": 150,
     "metadata": {},
     "output_type": "execute_result"
    }
   ],
   "source": [
    "#Get the possible values of ImportantBenefits_data\n",
    "possible_values_important_benefits = get_possible_values(ImportantBenefits_data,'important_benefits')\n",
    "possible_values_important_benefits"
   ]
  },
  {
   "cell_type": "code",
   "execution_count": 151,
   "metadata": {},
   "outputs": [
    {
     "data": {
      "text/html": [
       "<div>\n",
       "<style scoped>\n",
       "    .dataframe tbody tr th:only-of-type {\n",
       "        vertical-align: middle;\n",
       "    }\n",
       "\n",
       "    .dataframe tbody tr th {\n",
       "        vertical-align: top;\n",
       "    }\n",
       "\n",
       "    .dataframe thead th {\n",
       "        text-align: right;\n",
       "    }\n",
       "</style>\n",
       "<table border=\"1\" class=\"dataframe\">\n",
       "  <thead>\n",
       "    <tr style=\"text-align: right;\">\n",
       "      <th></th>\n",
       "      <th>important_benefits</th>\n",
       "      <th>count</th>\n",
       "      <th>percentage</th>\n",
       "    </tr>\n",
       "  </thead>\n",
       "  <tbody>\n",
       "    <tr>\n",
       "      <th>15</th>\n",
       "      <td>Vacation/days off</td>\n",
       "      <td>17242</td>\n",
       "      <td>0.133200</td>\n",
       "    </tr>\n",
       "    <tr>\n",
       "      <th>2</th>\n",
       "      <td>Remote options</td>\n",
       "      <td>16121</td>\n",
       "      <td>0.124540</td>\n",
       "    </tr>\n",
       "    <tr>\n",
       "      <th>4</th>\n",
       "      <td>Health benefits</td>\n",
       "      <td>14253</td>\n",
       "      <td>0.110109</td>\n",
       "    </tr>\n",
       "    <tr>\n",
       "      <th>9</th>\n",
       "      <td>Expected work hours</td>\n",
       "      <td>13388</td>\n",
       "      <td>0.103427</td>\n",
       "    </tr>\n",
       "    <tr>\n",
       "      <th>1</th>\n",
       "      <td>Equipment</td>\n",
       "      <td>12126</td>\n",
       "      <td>0.093678</td>\n",
       "    </tr>\n",
       "    <tr>\n",
       "      <th>7</th>\n",
       "      <td>Professional development sponsorship</td>\n",
       "      <td>11434</td>\n",
       "      <td>0.088332</td>\n",
       "    </tr>\n",
       "    <tr>\n",
       "      <th>11</th>\n",
       "      <td>Annual bonus</td>\n",
       "      <td>9560</td>\n",
       "      <td>0.073854</td>\n",
       "    </tr>\n",
       "    <tr>\n",
       "      <th>0</th>\n",
       "      <td>Retirement</td>\n",
       "      <td>7959</td>\n",
       "      <td>0.061486</td>\n",
       "    </tr>\n",
       "    <tr>\n",
       "      <th>8</th>\n",
       "      <td>Education sponsorship</td>\n",
       "      <td>5303</td>\n",
       "      <td>0.040968</td>\n",
       "    </tr>\n",
       "    <tr>\n",
       "      <th>3</th>\n",
       "      <td>Meals</td>\n",
       "      <td>4593</td>\n",
       "      <td>0.035483</td>\n",
       "    </tr>\n",
       "    <tr>\n",
       "      <th>5</th>\n",
       "      <td>Stock options</td>\n",
       "      <td>4429</td>\n",
       "      <td>0.034216</td>\n",
       "    </tr>\n",
       "    <tr>\n",
       "      <th>6</th>\n",
       "      <td>Long-term leave</td>\n",
       "      <td>4355</td>\n",
       "      <td>0.033644</td>\n",
       "    </tr>\n",
       "    <tr>\n",
       "      <th>10</th>\n",
       "      <td>Private office</td>\n",
       "      <td>3514</td>\n",
       "      <td>0.027147</td>\n",
       "    </tr>\n",
       "    <tr>\n",
       "      <th>16</th>\n",
       "      <td>Child/elder care</td>\n",
       "      <td>2739</td>\n",
       "      <td>0.021160</td>\n",
       "    </tr>\n",
       "    <tr>\n",
       "      <th>14</th>\n",
       "      <td>Other</td>\n",
       "      <td>888</td>\n",
       "      <td>0.006860</td>\n",
       "    </tr>\n",
       "    <tr>\n",
       "      <th>13</th>\n",
       "      <td>Charitable match</td>\n",
       "      <td>793</td>\n",
       "      <td>0.006126</td>\n",
       "    </tr>\n",
       "    <tr>\n",
       "      <th>12</th>\n",
       "      <td>None of these</td>\n",
       "      <td>747</td>\n",
       "      <td>0.005771</td>\n",
       "    </tr>\n",
       "  </tbody>\n",
       "</table>\n",
       "</div>"
      ],
      "text/plain": [
       "                      important_benefits  count  percentage\n",
       "15                     Vacation/days off  17242    0.133200\n",
       "2                         Remote options  16121    0.124540\n",
       "4                        Health benefits  14253    0.110109\n",
       "9                    Expected work hours  13388    0.103427\n",
       "1                              Equipment  12126    0.093678\n",
       "7   Professional development sponsorship  11434    0.088332\n",
       "11                          Annual bonus   9560    0.073854\n",
       "0                             Retirement   7959    0.061486\n",
       "8                  Education sponsorship   5303    0.040968\n",
       "3                                  Meals   4593    0.035483\n",
       "5                          Stock options   4429    0.034216\n",
       "6                        Long-term leave   4355    0.033644\n",
       "10                        Private office   3514    0.027147\n",
       "16                      Child/elder care   2739    0.021160\n",
       "14                                 Other    888    0.006860\n",
       "13                      Charitable match    793    0.006126\n",
       "12                         None of these    747    0.005771"
      ]
     },
     "execution_count": 151,
     "metadata": {},
     "output_type": "execute_result"
    }
   ],
   "source": [
    "# Data Preparation\n",
    "important_benefits_count_df = total_count(ImportantBenefits_data, 'important_benefits','count', possible_values_important_benefits)\n",
    "\n",
    "#Let us see the percentage of people in each category\n",
    "important_benefits_count_df['percentage'] = important_benefits_count_df['count']/important_benefits_count_df['count'].sum()\n",
    "\n",
    "\n",
    "important_benefits_count_df"
   ]
  },
  {
   "cell_type": "markdown",
   "metadata": {},
   "source": [
    "#### In the above cell, we can see that the data is prepared for the analysis. We have the required column \"percentage\" for our analysis"
   ]
  },
  {
   "cell_type": "code",
   "execution_count": 152,
   "metadata": {},
   "outputs": [
    {
     "data": {
      "image/png": "[encoded data removed]",
      "text/plain": [
       "<Figure size 1008x432 with 1 Axes>"
      ]
     },
     "metadata": {
      "needs_background": "light"
     },
     "output_type": "display_data"
    }
   ],
   "source": [
    "# Data Visualization\n",
    "bar_plot(important_benefits_count_df,'important_benefits','percentage','Employee Benefits','Percentage','Type of Benefits Preferred')"
   ]
  },
  {
   "cell_type": "markdown",
   "metadata": {},
   "source": [
    "## Conclusion\n",
    "\n",
    "The data visualization is generated with the prepared data. From the above chart, we can see that the developers give almost equal priority to working from remote places as that of the Vacation benefits."
   ]
  },
  {
   "cell_type": "code",
   "execution_count": null,
   "metadata": {},
   "outputs": [],
   "source": []
  },
  {
   "cell_type": "code",
   "execution_count": null,
   "metadata": {},
   "outputs": [],
   "source": []
  },
  {
   "cell_type": "code",
   "execution_count": null,
   "metadata": {},
   "outputs": [],
   "source": []
  },
  {
   "cell_type": "code",
   "execution_count": null,
   "metadata": {},
   "outputs": [],
   "source": []
  },
  {
   "cell_type": "code",
   "execution_count": null,
   "metadata": {},
   "outputs": [],
   "source": []
  },
  {
   "cell_type": "code",
   "execution_count": null,
   "metadata": {},
   "outputs": [],
   "source": []
  },
  {
   "cell_type": "code",
   "execution_count": null,
   "metadata": {},
   "outputs": [],
   "source": []
  },
  {
   "cell_type": "code",
   "execution_count": null,
   "metadata": {},
   "outputs": [],
   "source": []
  }
 ],
 "metadata": {
  "kernelspec": {
   "display_name": "Python 3",
   "language": "python",
   "name": "python3"
  },
  "language_info": {
   "codemirror_mode": {
    "name": "ipython",
    "version": 3
   },
   "file_extension": ".py",
   "mimetype": "text/x-python",
   "name": "python",
   "nbconvert_exporter": "python",
   "pygments_lexer": "ipython3",
   "version": "3.8.6"
  }
 },
 "nbformat": 4,
 "nbformat_minor": 2
}
